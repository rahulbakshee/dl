{
  "cells": [
    {
      "cell_type": "markdown",
      "metadata": {
        "id": "6u2UhxiZ8X3M"
      },
      "source": [
        "# `Autoencoders for Class Imbalance`\n",
        "\n",
        "## Problem: Device Failure Prediction \n",
        "Predictive maintenance is used to minimize cost over routine or time-based maintenance. If any device gets failed it is a loss to company because it hinders business. Otherwise regular maintenance activities are also cost to company. Therefore our job is to predict when the device fails(**Preventive maintenance**).\n",
        "We will try to reduce `False Positives` and `False Negatives`\n",
        "## Data:\n",
        "We have been given `device_failure.csv` which depicts the date-time a device has failed with 9 other masked features. The data is highly imbalanced `99.91% False cases and 0.08 % True cases`. There are other imbalanced datasets such as credit card fraud detection from `kaggle` which we will be working in part II\n",
        "## Approach:\n",
        "\n",
        "There are some ususal recommendations for working on Class Imbalance such as:\n",
        " - Data Level \n",
        "  - Oversampling the minority class.\n",
        "  - Undersampling the majority class.\n",
        "  - Combination of OverSampling and UnderSampling.\n",
        "  - Synthesize new minority classes.(SMOTE)\n",
        " - Algorithm Level\n",
        "  - Use class weights (higher weights for minority class)\n",
        "  - Use different classification threshold rather tha default 0.5\n",
        "  - Use complex tree based algorithms  like XGBoost / LightGBM etc.\n",
        "  - Focus on specific metric (Precision/Recall/F1-Score).\n",
        "  - Ensemble of Algorithms.\n",
        "  - Cross Validation strategy with StratifiedKFold.\n",
        "  - Neural Networks and Deep Learning.\n",
        " - Semi-Supervised Learning\n",
        "  - Instead of Classification, reframe problem as Anomaly detection, a.k.a. outlier detection\n",
        "  - `AutoEncoders` to the rescue \n",
        " - Buy or Create more data\n",
        " - etc....\n",
        "\n",
        "\n",
        "In our approach, we will use AutoEncoders, which has two aspects:- \n",
        "\n",
        " -  We will be using the power of autoencoders to understand the hidden representation of the data. This part is also called **unsupervised learning**\n",
        " - Then using the representation we can transform the data and predict(on test set) using simple linear algorithms and the lables given to us in .csv file. This part is called **supervised learning**\n",
        "\n",
        "## Result:\n",
        "Results show that Autoencoders work very well in case of class imbalance. \n",
        "\n",
        "## Resources:\n",
        " - Batch Normalization: Accelerating Deep Network Training by Reducing Internal Covariate Shift. https://arxiv.org/abs/1502.03167\n",
        " - Very well written kernel on AutoEncoders https://www.kaggle.com/shivamb/semi-supervised-classification-using-autoencoders\n",
        " - imbalanced learn https://imbalanced-learn.readthedocs.io/en/stable/\n",
        " - t-SNE https://lvdmaaten.github.io/tsne/\n"
      ]
    },
    {
      "cell_type": "code",
      "execution_count": 23,
      "metadata": {
        "colab": {
          "base_uri": "https://localhost:8080/"
        },
        "id": "UCEMehyG8X3Q",
        "outputId": "fbb9a89d-0aa8-4697-8482-8b35e775184d"
      },
      "outputs": [
        {
          "output_type": "stream",
          "name": "stdout",
          "text": [
            "Tensorflow version 2.8.0\n"
          ]
        }
      ],
      "source": [
        "# usual imports\n",
        "import pandas as pd\n",
        "import numpy as np\n",
        "import time, gc, os, sys\n",
        "seed = 42\n",
        "np.random.seed(seed)\n",
        "\n",
        "import warnings\n",
        "warnings.filterwarnings(\"ignore\")\n",
        "import matplotlib.pyplot as plt\n",
        "import seaborn as sns\n",
        "%matplotlib inline\n",
        "gc.collect()\n",
        "\n",
        "\n",
        "from tensorflow.keras.models import Model, Sequential, load_model\n",
        "from tensorflow.keras.layers import Dense, Activation, Dropout, BatchNormalization, Input\n",
        "from tensorflow.keras.callbacks import EarlyStopping, ModelCheckpoint\n",
        "\n",
        "from sklearn.preprocessing import MinMaxScaler\n",
        "from sklearn.manifold import TSNE\n",
        "from sklearn.linear_model import LogisticRegression\n",
        "from sklearn.model_selection import train_test_split\n",
        "from sklearn.metrics import confusion_matrix, classification_report, accuracy_score, recall_score, precision_score\n",
        "import tensorflow as tf\n",
        "print(\"Tensorflow version\", tf.__version__)"
      ]
    },
    {
      "cell_type": "code",
      "execution_count": 24,
      "metadata": {
        "colab": {
          "base_uri": "https://localhost:8080/",
          "height": 241
        },
        "id": "IE7XAhzx8X3S",
        "outputId": "7d33bc0b-1469-412a-bf20-5379610fe677"
      },
      "outputs": [
        {
          "output_type": "stream",
          "name": "stdout",
          "text": [
            "reading data\n",
            "shape (124494, 12)\n"
          ]
        },
        {
          "output_type": "execute_result",
          "data": {
            "text/html": [
              "\n",
              "  <div id=\"df-9ce3368e-0c02-4a78-9329-febf245f8ea7\">\n",
              "    <div class=\"colab-df-container\">\n",
              "      <div>\n",
              "<style scoped>\n",
              "    .dataframe tbody tr th:only-of-type {\n",
              "        vertical-align: middle;\n",
              "    }\n",
              "\n",
              "    .dataframe tbody tr th {\n",
              "        vertical-align: top;\n",
              "    }\n",
              "\n",
              "    .dataframe thead th {\n",
              "        text-align: right;\n",
              "    }\n",
              "</style>\n",
              "<table border=\"1\" class=\"dataframe\">\n",
              "  <thead>\n",
              "    <tr style=\"text-align: right;\">\n",
              "      <th></th>\n",
              "      <th>date</th>\n",
              "      <th>device</th>\n",
              "      <th>failure</th>\n",
              "      <th>attribute1</th>\n",
              "      <th>attribute2</th>\n",
              "      <th>attribute3</th>\n",
              "      <th>attribute4</th>\n",
              "      <th>attribute5</th>\n",
              "      <th>attribute6</th>\n",
              "      <th>attribute7</th>\n",
              "      <th>attribute8</th>\n",
              "      <th>attribute9</th>\n",
              "    </tr>\n",
              "  </thead>\n",
              "  <tbody>\n",
              "    <tr>\n",
              "      <th>0</th>\n",
              "      <td>2015-01-01</td>\n",
              "      <td>S1F01085</td>\n",
              "      <td>0</td>\n",
              "      <td>215630672</td>\n",
              "      <td>56</td>\n",
              "      <td>0</td>\n",
              "      <td>52</td>\n",
              "      <td>6</td>\n",
              "      <td>407438</td>\n",
              "      <td>0</td>\n",
              "      <td>0</td>\n",
              "      <td>7</td>\n",
              "    </tr>\n",
              "    <tr>\n",
              "      <th>1</th>\n",
              "      <td>2015-01-01</td>\n",
              "      <td>S1F0166B</td>\n",
              "      <td>0</td>\n",
              "      <td>61370680</td>\n",
              "      <td>0</td>\n",
              "      <td>3</td>\n",
              "      <td>0</td>\n",
              "      <td>6</td>\n",
              "      <td>403174</td>\n",
              "      <td>0</td>\n",
              "      <td>0</td>\n",
              "      <td>0</td>\n",
              "    </tr>\n",
              "    <tr>\n",
              "      <th>2</th>\n",
              "      <td>2015-01-01</td>\n",
              "      <td>S1F01E6Y</td>\n",
              "      <td>0</td>\n",
              "      <td>173295968</td>\n",
              "      <td>0</td>\n",
              "      <td>0</td>\n",
              "      <td>0</td>\n",
              "      <td>12</td>\n",
              "      <td>237394</td>\n",
              "      <td>0</td>\n",
              "      <td>0</td>\n",
              "      <td>0</td>\n",
              "    </tr>\n",
              "    <tr>\n",
              "      <th>3</th>\n",
              "      <td>2015-01-01</td>\n",
              "      <td>S1F01JE0</td>\n",
              "      <td>0</td>\n",
              "      <td>79694024</td>\n",
              "      <td>0</td>\n",
              "      <td>0</td>\n",
              "      <td>0</td>\n",
              "      <td>6</td>\n",
              "      <td>410186</td>\n",
              "      <td>0</td>\n",
              "      <td>0</td>\n",
              "      <td>0</td>\n",
              "    </tr>\n",
              "    <tr>\n",
              "      <th>4</th>\n",
              "      <td>2015-01-01</td>\n",
              "      <td>S1F01R2B</td>\n",
              "      <td>0</td>\n",
              "      <td>135970480</td>\n",
              "      <td>0</td>\n",
              "      <td>0</td>\n",
              "      <td>0</td>\n",
              "      <td>15</td>\n",
              "      <td>313173</td>\n",
              "      <td>0</td>\n",
              "      <td>0</td>\n",
              "      <td>3</td>\n",
              "    </tr>\n",
              "  </tbody>\n",
              "</table>\n",
              "</div>\n",
              "      <button class=\"colab-df-convert\" onclick=\"convertToInteractive('df-9ce3368e-0c02-4a78-9329-febf245f8ea7')\"\n",
              "              title=\"Convert this dataframe to an interactive table.\"\n",
              "              style=\"display:none;\">\n",
              "        \n",
              "  <svg xmlns=\"http://www.w3.org/2000/svg\" height=\"24px\"viewBox=\"0 0 24 24\"\n",
              "       width=\"24px\">\n",
              "    <path d=\"M0 0h24v24H0V0z\" fill=\"none\"/>\n",
              "    <path d=\"M18.56 5.44l.94 2.06.94-2.06 2.06-.94-2.06-.94-.94-2.06-.94 2.06-2.06.94zm-11 1L8.5 8.5l.94-2.06 2.06-.94-2.06-.94L8.5 2.5l-.94 2.06-2.06.94zm10 10l.94 2.06.94-2.06 2.06-.94-2.06-.94-.94-2.06-.94 2.06-2.06.94z\"/><path d=\"M17.41 7.96l-1.37-1.37c-.4-.4-.92-.59-1.43-.59-.52 0-1.04.2-1.43.59L10.3 9.45l-7.72 7.72c-.78.78-.78 2.05 0 2.83L4 21.41c.39.39.9.59 1.41.59.51 0 1.02-.2 1.41-.59l7.78-7.78 2.81-2.81c.8-.78.8-2.07 0-2.86zM5.41 20L4 18.59l7.72-7.72 1.47 1.35L5.41 20z\"/>\n",
              "  </svg>\n",
              "      </button>\n",
              "      \n",
              "  <style>\n",
              "    .colab-df-container {\n",
              "      display:flex;\n",
              "      flex-wrap:wrap;\n",
              "      gap: 12px;\n",
              "    }\n",
              "\n",
              "    .colab-df-convert {\n",
              "      background-color: #E8F0FE;\n",
              "      border: none;\n",
              "      border-radius: 50%;\n",
              "      cursor: pointer;\n",
              "      display: none;\n",
              "      fill: #1967D2;\n",
              "      height: 32px;\n",
              "      padding: 0 0 0 0;\n",
              "      width: 32px;\n",
              "    }\n",
              "\n",
              "    .colab-df-convert:hover {\n",
              "      background-color: #E2EBFA;\n",
              "      box-shadow: 0px 1px 2px rgba(60, 64, 67, 0.3), 0px 1px 3px 1px rgba(60, 64, 67, 0.15);\n",
              "      fill: #174EA6;\n",
              "    }\n",
              "\n",
              "    [theme=dark] .colab-df-convert {\n",
              "      background-color: #3B4455;\n",
              "      fill: #D2E3FC;\n",
              "    }\n",
              "\n",
              "    [theme=dark] .colab-df-convert:hover {\n",
              "      background-color: #434B5C;\n",
              "      box-shadow: 0px 1px 3px 1px rgba(0, 0, 0, 0.15);\n",
              "      filter: drop-shadow(0px 1px 2px rgba(0, 0, 0, 0.3));\n",
              "      fill: #FFFFFF;\n",
              "    }\n",
              "  </style>\n",
              "\n",
              "      <script>\n",
              "        const buttonEl =\n",
              "          document.querySelector('#df-9ce3368e-0c02-4a78-9329-febf245f8ea7 button.colab-df-convert');\n",
              "        buttonEl.style.display =\n",
              "          google.colab.kernel.accessAllowed ? 'block' : 'none';\n",
              "\n",
              "        async function convertToInteractive(key) {\n",
              "          const element = document.querySelector('#df-9ce3368e-0c02-4a78-9329-febf245f8ea7');\n",
              "          const dataTable =\n",
              "            await google.colab.kernel.invokeFunction('convertToInteractive',\n",
              "                                                     [key], {});\n",
              "          if (!dataTable) return;\n",
              "\n",
              "          const docLinkHtml = 'Like what you see? Visit the ' +\n",
              "            '<a target=\"_blank\" href=https://colab.research.google.com/notebooks/data_table.ipynb>data table notebook</a>'\n",
              "            + ' to learn more about interactive tables.';\n",
              "          element.innerHTML = '';\n",
              "          dataTable['output_type'] = 'display_data';\n",
              "          await google.colab.output.renderOutput(dataTable, element);\n",
              "          const docLink = document.createElement('div');\n",
              "          docLink.innerHTML = docLinkHtml;\n",
              "          element.appendChild(docLink);\n",
              "        }\n",
              "      </script>\n",
              "    </div>\n",
              "  </div>\n",
              "  "
            ],
            "text/plain": [
              "        date    device  failure  ...  attribute7  attribute8  attribute9\n",
              "0 2015-01-01  S1F01085        0  ...           0           0           7\n",
              "1 2015-01-01  S1F0166B        0  ...           0           0           0\n",
              "2 2015-01-01  S1F01E6Y        0  ...           0           0           0\n",
              "3 2015-01-01  S1F01JE0        0  ...           0           0           0\n",
              "4 2015-01-01  S1F01R2B        0  ...           0           0           3\n",
              "\n",
              "[5 rows x 12 columns]"
            ]
          },
          "metadata": {},
          "execution_count": 24
        }
      ],
      "source": [
        "print(\"reading data\")\n",
        "df = pd.read_csv(\"device_failure.csv\", parse_dates=[\"date\"])\n",
        "# df = df.sample(frac=1.0).reset_index(drop=True)\n",
        "print(\"shape\", df.shape)\n",
        "df.head()"
      ]
    },
    {
      "cell_type": "code",
      "execution_count": 26,
      "metadata": {
        "colab": {
          "base_uri": "https://localhost:8080/"
        },
        "id": "zJPjVYQM8X3T",
        "outputId": "bbd79b06-9a38-4e0b-d221-2899349c1274"
      },
      "outputs": [
        {
          "output_type": "stream",
          "name": "stdout",
          "text": [
            "This shows the class imbalance\n",
            "0    124388\n",
            "1       106\n",
            "Name: failure, dtype: int64\n",
            "Total unique devices =  1168\n",
            "we will be using only below 9 features as predictors\n"
          ]
        },
        {
          "output_type": "execute_result",
          "data": {
            "text/plain": [
              "['attribute1',\n",
              " 'attribute2',\n",
              " 'attribute3',\n",
              " 'attribute4',\n",
              " 'attribute5',\n",
              " 'attribute6',\n",
              " 'attribute7',\n",
              " 'attribute8',\n",
              " 'attribute9']"
            ]
          },
          "metadata": {},
          "execution_count": 26
        }
      ],
      "source": [
        "print(\"This shows the class imbalance\")\n",
        "print(df[\"failure\"].value_counts())\n",
        "\n",
        "print(\"Total unique devices = \" , df[\"device\"].nunique())\n",
        "\n",
        "\n",
        "predictors = [c for c in df.columns if c not in [\"date\", \"device\",\"failure\"]]\n",
        "print(\"we will be using only below {} features as predictors\".format(len(predictors)))\n",
        "predictors"
      ]
    },
    {
      "cell_type": "code",
      "source": [
        "df[df[\"failure\"] == 0].shape"
      ],
      "metadata": {
        "colab": {
          "base_uri": "https://localhost:8080/"
        },
        "id": "vwJTENBb9EwD",
        "outputId": "e9a5e8e2-27df-4347-bcbf-ce23ba556776"
      },
      "execution_count": 27,
      "outputs": [
        {
          "output_type": "execute_result",
          "data": {
            "text/plain": [
              "(124388, 12)"
            ]
          },
          "metadata": {},
          "execution_count": 27
        }
      ]
    },
    {
      "cell_type": "code",
      "execution_count": 28,
      "metadata": {
        "colab": {
          "base_uri": "https://localhost:8080/"
        },
        "id": "7a9UfJUx8X3T",
        "outputId": "b131a152-c2df-4ab9-bd09-cf9f68f6a091"
      },
      "outputs": [
        {
          "output_type": "stream",
          "name": "stdout",
          "text": [
            "shape of only failure data (106, 12)\n",
            "shape of training set (123388, 12)\n",
            "shape of test set (1001, 12)\n"
          ]
        },
        {
          "output_type": "execute_result",
          "data": {
            "text/plain": [
              "176"
            ]
          },
          "metadata": {},
          "execution_count": 28
        }
      ],
      "source": [
        "# divide the dataset\n",
        "df_failure = df[df[\"failure\"] == 1] \n",
        "df_nonfailure_test = df[df[\"failure\"] == 0].loc[:1000].reset_index(drop=True) # to be used later for testing\n",
        "df_nonfailure = df[df[\"failure\"] == 0].loc[1000:].reset_index(drop=True) # training set\n",
        "\n",
        "# scale the input\n",
        "df_failure[predictors] = MinMaxScaler().fit_transform(df_failure[predictors])\n",
        "df_nonfailure[predictors] = MinMaxScaler().fit_transform(df_nonfailure[predictors])\n",
        "\n",
        "print(\"shape of only failure data\", df_failure.shape)\n",
        "print(\"shape of training set\", df_nonfailure.shape)\n",
        "print(\"shape of test set\", df_nonfailure_test.shape)\n",
        "\n",
        "\n",
        "del df\n",
        "gc.collect()"
      ]
    },
    {
      "cell_type": "code",
      "execution_count": 29,
      "metadata": {
        "colab": {
          "base_uri": "https://localhost:8080/",
          "height": 461
        },
        "id": "HwJpfFQi8X3U",
        "outputId": "82738311-e7fe-4bd5-fd42-a1aec0c4b0a2"
      },
      "outputs": [
        {
          "output_type": "display_data",
          "data": {
            "image/png": "[encoded data removed]",
            "text/plain": [
              "<Figure size 864x504 with 1 Axes>"
            ]
          },
          "metadata": {
            "needs_background": "light"
          }
        },
        {
          "output_type": "execute_result",
          "data": {
            "text/plain": [
              "2638"
            ]
          },
          "metadata": {},
          "execution_count": 29
        }
      ],
      "source": [
        "# create the plotting helper function\n",
        "def plot_tsne(x, y, name, title):\n",
        "    x_new = TSNE(random_state=seed).fit_transform(x)\n",
        "\n",
        "    plt.figure(figsize=(12,7))\n",
        "    plt.scatter(x_new[np.where(y == 0),0], x_new[np.where(y == 0),1],color='g',alpha=0.8,label=\"NonFailure\")\n",
        "    plt.scatter(x_new[np.where(y == 1),0], x_new[np.where(y == 1),1],color='r',alpha=0.8,label=\"Failure\")\n",
        "    plt.legend(loc='best')\n",
        "    plt.title(title)\n",
        "    plt.savefig(name)\n",
        "    plt.show()\n",
        "\n",
        "\n",
        "    # visualize full failure data and just few samples from non failure data    \n",
        "tmp = pd.concat([df_failure, df_nonfailure.sample(1000)], axis=0)\n",
        "plot_tsne(tmp[predictors], tmp[\"failure\"],name=\"classImbalance.png\", title=\"Original Data\")\n",
        "\n",
        "del tmp\n",
        "gc.collect()"
      ]
    },
    {
      "cell_type": "markdown",
      "metadata": {
        "id": "aGVYIW928X3U"
      },
      "source": [
        "### As can be clearly seen from fig above that data is not linearly separable"
      ]
    },
    {
      "cell_type": "code",
      "execution_count": 30,
      "metadata": {
        "colab": {
          "base_uri": "https://localhost:8080/"
        },
        "id": "yV0r2gdu8X3V",
        "outputId": "2e6ba40b-5b6e-4d8e-f392-c8cef4769851"
      },
      "outputs": [
        {
          "output_type": "stream",
          "name": "stdout",
          "text": [
            "Model: \"model_2\"\n",
            "_________________________________________________________________\n",
            " Layer (type)                Output Shape              Param #   \n",
            "=================================================================\n",
            " inp (InputLayer)            [(None, 9)]               0         \n",
            "                                                                 \n",
            " dense_6 (Dense)             (None, 9)                 90        \n",
            "                                                                 \n",
            " batch_normalization_6 (Batc  (None, 9)                36        \n",
            " hNormalization)                                                 \n",
            "                                                                 \n",
            " activation_6 (Activation)   (None, 9)                 0         \n",
            "                                                                 \n",
            " dense_7 (Dense)             (None, 4)                 40        \n",
            "                                                                 \n",
            " batch_normalization_7 (Batc  (None, 4)                16        \n",
            " hNormalization)                                                 \n",
            "                                                                 \n",
            " activation_7 (Activation)   (None, 4)                 0         \n",
            "                                                                 \n",
            " dense_8 (Dense)             (None, 9)                 45        \n",
            "                                                                 \n",
            " batch_normalization_8 (Batc  (None, 9)                36        \n",
            " hNormalization)                                                 \n",
            "                                                                 \n",
            " activation_8 (Activation)   (None, 9)                 0         \n",
            "                                                                 \n",
            "=================================================================\n",
            "Total params: 263\n",
            "Trainable params: 219\n",
            "Non-trainable params: 44\n",
            "_________________________________________________________________\n",
            "None\n",
            "Epoch 1/10\n",
            "3085/3085 [==============================] - 9s 3ms/step - loss: 0.0281 - val_loss: 0.0028\n",
            "Epoch 2/10\n",
            "3085/3085 [==============================] - 8s 2ms/step - loss: 0.0022 - val_loss: 8.2797e-04\n",
            "Epoch 3/10\n",
            "3085/3085 [==============================] - 7s 2ms/step - loss: 0.0013 - val_loss: 5.0891e-04\n",
            "Epoch 4/10\n",
            "3085/3085 [==============================] - 7s 2ms/step - loss: 0.0011 - val_loss: 4.4821e-04\n",
            "Epoch 5/10\n",
            "3085/3085 [==============================] - 8s 2ms/step - loss: 0.0010 - val_loss: 4.1538e-04\n",
            "Epoch 6/10\n",
            "3085/3085 [==============================] - 7s 2ms/step - loss: 9.8238e-04 - val_loss: 4.0556e-04\n",
            "Epoch 7/10\n",
            "3085/3085 [==============================] - 8s 3ms/step - loss: 9.6561e-04 - val_loss: 3.9241e-04\n",
            "Epoch 8/10\n",
            "3085/3085 [==============================] - 8s 3ms/step - loss: 9.2464e-04 - val_loss: 4.1705e-04\n",
            "Epoch 9/10\n",
            "3085/3085 [==============================] - 7s 2ms/step - loss: 8.7852e-04 - val_loss: 3.7097e-04\n",
            "Epoch 10/10\n",
            "3085/3085 [==============================] - 9s 3ms/step - loss: 8.4888e-04 - val_loss: 3.5403e-04\n"
          ]
        }
      ],
      "source": [
        "# create a model\n",
        "def create_model(print_summary=True):\n",
        "    inp = Input(shape=(len(predictors),), name=\"inp\")\n",
        "\n",
        "    inp1 = Dense(len(predictors))(inp)\n",
        "    inp1 = BatchNormalization()(inp1)\n",
        "    inp1 = Activation('relu')(inp1)\n",
        "    \n",
        "    latent = Dense(4)(inp1)\n",
        "    latent = BatchNormalization()(latent)\n",
        "    latent = Activation('relu')(latent)\n",
        "\n",
        "    out = Dense(len(predictors))(latent)\n",
        "    out = BatchNormalization()(out)\n",
        "    out = Activation('relu')(out)\n",
        "\n",
        "    model = Model(inp, out)\n",
        "\n",
        "    model.compile(optimizer='adam',loss='mse')\n",
        "    \n",
        "    if print_summary:\n",
        "        print(model.summary())\n",
        "    \n",
        "    return model\n",
        "\n",
        "model = create_model(print_summary=True)\n",
        "\n",
        "\n",
        "# train the model\n",
        "history = model.fit(df_nonfailure[predictors],df_nonfailure[predictors],\n",
        "                    batch_size=32,epochs=10,validation_split=0.2) "
      ]
    },
    {
      "cell_type": "code",
      "execution_count": 32,
      "metadata": {
        "colab": {
          "base_uri": "https://localhost:8080/",
          "height": 295
        },
        "id": "5qoM6G4W8X3V",
        "outputId": "b1b57a8a-8b1a-477d-ee4d-c3d8253b1ece"
      },
      "outputs": [
        {
          "output_type": "display_data",
          "data": {
            "image/png": "[encoded data removed]",
            "text/plain": [
              "<Figure size 432x288 with 1 Axes>"
            ]
          },
          "metadata": {
            "needs_background": "light"
          }
        }
      ],
      "source": [
        "# Plot training & validation loss values\n",
        "plt.plot(history.history['loss'])\n",
        "plt.plot(history.history['val_loss'])\n",
        "plt.title('Model loss')\n",
        "plt.ylabel('Loss')\n",
        "plt.xlabel('Epoch')\n",
        "plt.legend(['Train', 'Test'], loc='best')\n",
        "plt.show()"
      ]
    },
    {
      "cell_type": "markdown",
      "metadata": {
        "id": "uMj1LntG8X3W"
      },
      "source": [
        "### now that our model is trained for few epochs and the train loss and val loss are similar and low, we can use the encoded layer (often called as bottleneck) to get latent representation of the data we trained on.\n"
      ]
    },
    {
      "cell_type": "code",
      "execution_count": 33,
      "metadata": {
        "id": "3pkkEu4q8X3W"
      },
      "outputs": [],
      "source": [
        "# using ModelCheckpoint callbacks, we can save model and model weights to our disc and \n",
        "# then at inference time we can load only the best weights. This improves accuracy (or reduces loss) \n",
        "# and improves generalization\n",
        "\n",
        "# model = load_model(\"autoenco.05-0.00.hdf5\") # loading the latest weights"
      ]
    },
    {
      "cell_type": "code",
      "source": [
        "for i, l in enumerate(model.layers):\n",
        "    print(i, l)"
      ],
      "metadata": {
        "colab": {
          "base_uri": "https://localhost:8080/"
        },
        "id": "3kUVR6fR_m0v",
        "outputId": "8b48e889-5c42-4f09-d504-9e647c3b38dc"
      },
      "execution_count": 34,
      "outputs": [
        {
          "output_type": "stream",
          "name": "stdout",
          "text": [
            "0 <keras.engine.input_layer.InputLayer object at 0x7f4fdc498f50>\n",
            "1 <keras.layers.core.dense.Dense object at 0x7f4fdc409710>\n",
            "2 <keras.layers.normalization.batch_normalization.BatchNormalization object at 0x7f4fdc5053d0>\n",
            "3 <keras.layers.core.activation.Activation object at 0x7f4fdc793e90>\n",
            "4 <keras.layers.core.dense.Dense object at 0x7f4fdc7a18d0>\n",
            "5 <keras.layers.normalization.batch_normalization.BatchNormalization object at 0x7f4fdc770f90>\n",
            "6 <keras.layers.core.activation.Activation object at 0x7f4fdc455f10>\n",
            "7 <keras.layers.core.dense.Dense object at 0x7f4fdc406910>\n",
            "8 <keras.layers.normalization.batch_normalization.BatchNormalization object at 0x7f4fdc406250>\n",
            "9 <keras.layers.core.activation.Activation object at 0x7f4fdc3c7e90>\n"
          ]
        }
      ]
    },
    {
      "cell_type": "code",
      "execution_count": 35,
      "metadata": {
        "id": "GHmtXfXl8X3W"
      },
      "outputs": [],
      "source": [
        "#  Obtain the Latent Representations\n",
        "hid_repr = Sequential()\n",
        "hid_repr.add(model.layers[0])\n",
        "hid_repr.add(model.layers[1])\n",
        "hid_repr.add(model.layers[2])\n",
        "hid_repr.add(model.layers[3])\n",
        "hid_repr.add(model.layers[4])\n",
        "hid_repr.add(model.layers[5])\n",
        "hid_repr.add(model.layers[6])\n",
        "\n",
        "# predict on the hold out test set\n",
        "hid_rep_nonfailure = hid_repr.predict(df_nonfailure_test[predictors])\n",
        "# predict on data(with only POSITIVE Class)\n",
        "hid_rep_failure = hid_repr.predict(df_failure[predictors])"
      ]
    },
    {
      "cell_type": "code",
      "execution_count": 36,
      "metadata": {
        "colab": {
          "base_uri": "https://localhost:8080/",
          "height": 461
        },
        "id": "ZGB5k9Uy8X3X",
        "outputId": "18feb46c-66d3-4c61-bc51-8e2474416e1f"
      },
      "outputs": [
        {
          "output_type": "display_data",
          "data": {
            "image/png": "[encoded data removed]",
            "text/plain": [
              "<Figure size 864x504 with 1 Axes>"
            ]
          },
          "metadata": {
            "needs_background": "light"
          }
        },
        {
          "output_type": "execute_result",
          "data": {
            "text/plain": [
              "9863"
            ]
          },
          "metadata": {},
          "execution_count": 36
        }
      ],
      "source": [
        "# visualize once again\n",
        "tmp_x = np.concatenate([hid_rep_failure, hid_rep_nonfailure], axis=0)\n",
        "tmp_x = TSNE(random_state=seed).fit_transform(tmp_x)\n",
        "\n",
        "f_y = np.ones(hid_rep_failure.shape[0])\n",
        "n_y = np.zeros(hid_rep_nonfailure.shape[0])\n",
        "tmp_y = np.concatenate([f_y, n_y], axis=0)\n",
        "\n",
        "# call the plotting helper function\n",
        "plot_tsne(tmp_x, tmp_y, name=\"transformedData.png\", title=\"Transformed Data\")\n",
        "\n",
        "del n_y, f_y\n",
        "gc.collect()"
      ]
    },
    {
      "cell_type": "markdown",
      "metadata": {
        "id": "tWLcKwMs8X3X"
      },
      "source": [
        "### as can be seen from the above plot, the data is quiet linearly separable using a simple linear algorithm"
      ]
    },
    {
      "cell_type": "code",
      "execution_count": 37,
      "metadata": {
        "id": "q4zj5fSq8X3X"
      },
      "outputs": [],
      "source": [
        "# finally apply any simpler algo\n",
        "\n",
        "train_x, val_x, train_y, val_y = train_test_split(tmp_x, tmp_y, test_size=.25, random_state=seed)\n",
        "\n",
        "lr = LogisticRegression(random_state=seed, n_jobs=-1, solver='saga')\n",
        "lr.fit(train_x, train_y)\n",
        "pred_y = lr.predict(val_x)"
      ]
    },
    {
      "cell_type": "code",
      "execution_count": 38,
      "metadata": {
        "colab": {
          "base_uri": "https://localhost:8080/",
          "height": 317
        },
        "id": "_Bg0NU-X8X3X",
        "outputId": "87755abe-6a73-4d9c-ca4b-ff5203cf195f"
      },
      "outputs": [
        {
          "output_type": "stream",
          "name": "stdout",
          "text": [
            "[[243   3]\n",
            " [  0  31]]\n"
          ]
        },
        {
          "output_type": "execute_result",
          "data": {
            "text/plain": [
              "<matplotlib.axes._subplots.AxesSubplot at 0x7f4fdc2ab3d0>"
            ]
          },
          "metadata": {},
          "execution_count": 38
        },
        {
          "output_type": "display_data",
          "data": {
            "image/png": "[encoded data removed]",
            "text/plain": [
              "<Figure size 432x288 with 2 Axes>"
            ]
          },
          "metadata": {
            "needs_background": "light"
          }
        }
      ],
      "source": [
        "print(confusion_matrix(y_true=val_y, y_pred=pred_y))\n",
        "sns.heatmap(confusion_matrix(y_true=val_y, y_pred=pred_y), annot=True)"
      ]
    },
    {
      "cell_type": "code",
      "execution_count": 39,
      "metadata": {
        "colab": {
          "base_uri": "https://localhost:8080/"
        },
        "id": "ceWBsDo98X3Y",
        "outputId": "c53611ea-3cd0-4f9f-c94d-103bb608371e"
      },
      "outputs": [
        {
          "output_type": "stream",
          "name": "stdout",
          "text": [
            "              precision    recall  f1-score   support\n",
            "\n",
            "         0.0       1.00      0.99      0.99       246\n",
            "         1.0       0.91      1.00      0.95        31\n",
            "\n",
            "    accuracy                           0.99       277\n",
            "   macro avg       0.96      0.99      0.97       277\n",
            "weighted avg       0.99      0.99      0.99       277\n",
            "\n"
          ]
        }
      ],
      "source": [
        "print(classification_report(y_true=val_y, y_pred=pred_y))"
      ]
    },
    {
      "cell_type": "markdown",
      "metadata": {
        "id": "FzKflaGw8X3Y"
      },
      "source": [
        "# Conclusion"
      ]
    },
    {
      "cell_type": "markdown",
      "metadata": {
        "id": "c2uVECuC8X3Y"
      },
      "source": [
        "- First we divided the data into two parts as per the class labels.\n",
        " - Visualization shows the data is highly imbalanced and not linearly separable.\n",
        "- Then we trained model on only majority class data(in our case label '0' - NonFailure)\n",
        "- Then we get the hidden representation using the bottleneck layer(encoding layers) and transform the datasets (full POSITIVE label dataset(minority) and sample NEGATIVE dataset)\n",
        " - Visualization shows the data is linearly separable\n",
        "- Train a simple linear model on the newly transformed data"
      ]
    }
  ],
  "metadata": {
    "kernelspec": {
      "display_name": "Python 3",
      "language": "python",
      "name": "python3"
    },
    "language_info": {
      "codemirror_mode": {
        "name": "ipython",
        "version": 3
      },
      "file_extension": ".py",
      "mimetype": "text/x-python",
      "name": "python",
      "nbconvert_exporter": "python",
      "pygments_lexer": "ipython3",
      "version": "3.6.8"
    },
    "colab": {
      "name": "autoencoders_class_imbalance.ipynb",
      "provenance": [],
      "collapsed_sections": []
    }
  },
  "nbformat": 4,
  "nbformat_minor": 0
}